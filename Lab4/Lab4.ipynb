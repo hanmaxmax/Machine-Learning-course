{
 "cells": [
  {
   "cell_type": "markdown",
   "id": "edd09a0a",
   "metadata": {},
   "source": [
    "# 作业四：朴素贝叶斯分类器\n",
    "- 姓名：韩佳迅\n",
    "- 学号：2012682\n",
    "- 专业：计算机科学与技术"
   ]
  },
  {
   "cell_type": "markdown",
   "id": "428c6008",
   "metadata": {},
   "source": [
    "### 实验要求\n",
    "题目：朴素贝叶斯分类器\n",
    "\n",
    "#### 基本要求：\n",
    "a) 采用分层采样的方式将数据集划分为训练集和测试集。 \n",
    "\n",
    "b) 给定编写一个朴素贝叶斯分类器，对测试集进行预测，计算分类准确率。\n",
    "\n",
    "#### 中级要求\n",
    "\n",
    "使用测试集评估模型，得到混淆矩阵，精度，召回率，F值。\n",
    "\n",
    "#### 高级要求\n",
    "\n",
    "在中级要求的基础上画出三类数据的ROC曲线，并求出AUC值。\n",
    "\n",
    "\n",
    "**截止日期：11月18日**\n",
    "- 发送到邮箱：2120220594@mail.nankai.edu.cn"
   ]
  },
  {
   "cell_type": "markdown",
   "id": "d7d6e1b7",
   "metadata": {},
   "source": [
    "### 导入相关包"
   ]
  },
  {
   "cell_type": "code",
   "execution_count": 207,
   "id": "fb56a81f",
   "metadata": {},
   "outputs": [],
   "source": [
    "# -*- coding: UTF-8 -*-\n",
    "import math\n",
    "import numpy as np  \n",
    "import random\n",
    "import pandas as pd"
   ]
  },
  {
   "cell_type": "markdown",
   "id": "aabec3f0",
   "metadata": {},
   "source": [
    "### 基本要求：\n",
    "a) 采用分层采样的方式将数据集划分为训练集和测试集。 \n",
    "\n",
    "b) 给定编写一个朴素贝叶斯分类器，对测试集进行预测，计算分类准确率。"
   ]
  },
  {
   "cell_type": "markdown",
   "id": "70b5ab7d",
   "metadata": {},
   "source": [
    "### 导入并划分数据集"
   ]
  },
  {
   "cell_type": "code",
   "execution_count": 208,
   "id": "9a17fca5",
   "metadata": {},
   "outputs": [],
   "source": [
    "f = open('wine.data','r')\n",
    "types = [[],[],[]]                      #按类分的所有数据\n",
    "test_data = [[],[],[]]\n",
    "train_data = [[],[],[]]\n",
    "data_num = 0                            #数据总数\n",
    "test_len = []                           #测试集里每一类的个数\n",
    "means = [[],[],[]]                      #每一类的均值\n",
    "std = [[],[],[]]                        #每一类的标准差\n",
    "myline = '1'\n",
    "while myline:\n",
    "    myline = f.readline().split(',')\n",
    "    if len(myline) != 14:\n",
    "        break\n",
    "    for t in range(len(myline)):\n",
    "        if t == 0:\n",
    "            myline[t] = int(myline[t])\n",
    "        else:\n",
    "            myline[t] = float(myline[t])\n",
    "    temp = myline.pop(0)\n",
    "    types[temp - 1].append(myline)\n",
    "test_len = [round(len(types[i]) / 5) for i in range(3)]\n",
    "data_num = sum([len(types[i]) for i in range(3)])"
   ]
  },
  {
   "cell_type": "code",
   "execution_count": 209,
   "id": "8b2530a9",
   "metadata": {},
   "outputs": [],
   "source": [
    "# 分层采样\n",
    "def split_data():\n",
    "    for i in range(3):  \n",
    "        test_data[i] = random.sample(types[i], test_len[i]) #在每类里面按照测试集的大小随机选出测试集数据\n",
    "        train_data[i] = [x for x in types[i] if x not in test_data[i] ] #剩下的就是训练集"
   ]
  },
  {
   "cell_type": "code",
   "execution_count": 210,
   "id": "cb375fec",
   "metadata": {},
   "outputs": [],
   "source": [
    "def Bayes(data, p, mean, std):\n",
    "    result = 1\n",
    "    for i in range(len(data)):\n",
    "        result *=  1 / ((2*math.pi)**0.5*std[i]) * math.exp(-((data[i] - mean[i])**2) / (2 * std[i]**2 ))\n",
    "    result *= p\n",
    "    return result"
   ]
  },
  {
   "cell_type": "code",
   "execution_count": 211,
   "id": "7cbd103b",
   "metadata": {},
   "outputs": [],
   "source": [
    "def bayes_classificate():\n",
    "    # 首先，分别计算训练集上三个类的均值和标准差\n",
    "    means=[np.mean(train_data[i],axis=0) for i in range(3)]#均值\n",
    "    stds=[np.std(train_data[i],axis=0) for i in range(3)]#标准差\n",
    "    real_label = []\n",
    "    pre_label = []\n",
    "    pre_P = [[],[],[]]\n",
    "    wrong_num = 0\n",
    "    for i in range(3):\n",
    "        for t in test_data[i]:                  #两层循环：从每一类取每一个测试样本\n",
    "            my_type = []\n",
    "            for j in range(3):\n",
    "                #由于数据集中所有的属性都是连续值，连续值的似然估计可以按照高斯分布来计算：\n",
    "                temp = Bayes(t, len(types[j])/data_num, means[j], stds[j])\n",
    "                my_type.append(temp)                        #这里将所有score保存\n",
    "                pre_P[j].append(temp)#分别记录该样本预测为j的概率\n",
    "            pre_type = my_type.index(max(my_type))          #取分值最大的为预测类别\n",
    "            pre_label.append(pre_type)#记录预测值\n",
    "            real_label.append(i)#记录真实值\n",
    "            if pre_type != i: #统计错误数\n",
    "                wrong_num+=1\n",
    "    return wrong_num,real_label,pre_label,pre_P"
   ]
  },
  {
   "cell_type": "code",
   "execution_count": 223,
   "id": "b432cccb",
   "metadata": {},
   "outputs": [
    {
     "name": "stdout",
     "output_type": "stream",
     "text": [
      "错误分类数 = 2\n",
      "朴素贝叶斯分类准确率 = 0.9444444444444444\n"
     ]
    }
   ],
   "source": [
    "split_data() # 分层采样\n",
    "wrong_num,real_label,pre_label,pre_P = bayes_classificate() # 朴素贝叶斯分类器，对测试集进行预测\n",
    "acc = (sum(test_len)-wrong_num) / sum(test_len) # 计算分类准确率\n",
    "print(\"错误分类数 =\", wrong_num)\n",
    "print(\"朴素贝叶斯分类准确率 =\", acc)"
   ]
  },
  {
   "cell_type": "markdown",
   "id": "fafe35ec",
   "metadata": {},
   "source": [
    "### 中级要求\n",
    "\n",
    "使用测试集评估模型，得到混淆矩阵，精度，召回率，F值。"
   ]
  },
  {
   "cell_type": "code",
   "execution_count": 225,
   "id": "fab368d7",
   "metadata": {},
   "outputs": [],
   "source": [
    "def confusion_matrix():\n",
    "    confusion = np.zeros((3, 3))\n",
    "    for i in range(len(real_label)):\n",
    "        confusion[int(real_label[i] - 1), int(pre_label[i] - 1)] += 1\n",
    "    recall1 = confusion[0, 0] / (confusion[0, 0] + confusion[0, 1] + confusion[0, 2])\n",
    "    recall2 = confusion[1, 1] / (confusion[1, 0] + confusion[1, 1] + confusion[1, 2])\n",
    "    recall3 = confusion[2, 2] / (confusion[2, 0] + confusion[2, 1] + confusion[2, 2])\n",
    "    precision1 = confusion[0, 0] / (confusion[0, 0] + confusion[1, 0] + confusion[2, 0])\n",
    "    precision2 = confusion[1, 1] / (confusion[0, 1] + confusion[1, 1] + confusion[2, 1])\n",
    "    precision3 = confusion[2, 2] / (confusion[0, 2] + confusion[1, 2] + confusion[2, 2])\n",
    "    f1 = 2 / (1 / precision1 + 1 / recall1)\n",
    "    f2 = 2 / (1 / precision2 + 1 / recall2)\n",
    "    f3 = 2 / (1 / precision3 + 1 / recall3)\n",
    "    return confusion, precision1, precision2, precision3, recall1, recall2, recall3, f1, f2, f3"
   ]
  },
  {
   "cell_type": "code",
   "execution_count": 226,
   "id": "243e2b35",
   "metadata": {},
   "outputs": [
    {
     "name": "stdout",
     "output_type": "stream",
     "text": [
      "混淆矩阵\n",
      "[[13.  1.  0.]\n",
      " [ 0. 10.  0.]\n",
      " [ 1.  0. 11.]]\n",
      "类别1的精度: 0.9285714285714286\n",
      "类别2的精度: 0.9090909090909091\n",
      "类别3的精度: 1.0\n",
      "类别1的召回率: 0.9285714285714286\n",
      "类别2的召回率: 1.0\n",
      "类别3的召回率: 0.9166666666666666\n",
      "类别1的F值: 0.9285714285714286\n",
      "类别2的F值: 0.9523809523809523\n",
      "类别3的F值: 0.9565217391304348\n"
     ]
    }
   ],
   "source": [
    "confusion, precision1, precision2, precision3, recall1, recall2, recall3, f1, f2, f3 = confusion_matrix()\n",
    "\n",
    "print(\"混淆矩阵\")\n",
    "print(confusion)\n",
    "print(\"类别1的精度: \" + str(precision1) )\n",
    "print(\"类别2的精度: \" + str(precision2))\n",
    "print(\"类别3的精度: \" + str(precision3))\n",
    "\n",
    "print(\"类别1的召回率: \" + str(recall1) )\n",
    "print(\"类别2的召回率: \" + str(recall2))\n",
    "print(\"类别3的召回率: \" + str(recall3))\n",
    "\n",
    "print(\"类别1的F值: \" + str(f1) )\n",
    "print(\"类别2的F值: \" + str(f2))\n",
    "print(\"类别3的F值: \" + str(f3))"
   ]
  },
  {
   "cell_type": "markdown",
   "id": "96b2cc4c",
   "metadata": {},
   "source": [
    "### 高级要求\n",
    "\n",
    "在中级要求的基础上画出三类数据的ROC曲线，并求出AUC值。"
   ]
  },
  {
   "cell_type": "code",
   "execution_count": 231,
   "id": "050b1b63",
   "metadata": {},
   "outputs": [],
   "source": [
    "def ROC_auc(predicts, labels):\n",
    "    point=(0.0, 0.0)#当前节点（绘图）\n",
    "    pos_num = np.sum(labels == 1) # positive个数\n",
    "    neg_num = len(labels)-pos_num # negative个数\n",
    "    auc = 0\n",
    "    sortedIndicies = np.argsort(-predicts)#排序，返回排序后的下标\n",
    "\n",
    "    fig = plt.figure()\n",
    "    fig.clf()\n",
    "    ySum = 0.0\n",
    "    ax = plt.subplot(111)\n",
    "    ax.plot([0, 1.1], [0, 1.1], 'k--')\n",
    "    for index in sortedIndicies:\n",
    "        if labels[index] == 1.0:\n",
    "            # x、y的变化值（x不变，y上移）\n",
    "            dy = 1.0/pos_num\n",
    "            dx=0\n",
    "        else:\n",
    "            # x、y的变化值（y不变，x左移）\n",
    "            dy = 0\n",
    "            dx = 1.0/neg_num\n",
    "            auc += point[1]*(1.0/neg_num)#auc值（积分值累加）\n",
    "        ax.plot([point[0], point[0]+dx], [point[1], point[1]+dy], c='r')#绘制这一段的图像\n",
    "        point = (point[0]+dx, point[1]+dy)#下一个点\n",
    "\n",
    "    plt.xlabel('False Positve Rate')\n",
    "    plt.ylabel('True Postive Rate')\n",
    "    plt.title('ROC')\n",
    "    ax.axis([0, 1.1, 0, 1.1])\n",
    "    plt.show()\n",
    "    print('auc:', auc)"
   ]
  },
  {
   "cell_type": "code",
   "execution_count": 232,
   "id": "e496b8b8",
   "metadata": {},
   "outputs": [
    {
     "name": "stdout",
     "output_type": "stream",
     "text": [
      "\n",
      "===================类别一===================\n"
     ]
    },
    {
     "data": {
      "image/png": "[encoded data removed]",
      "text/plain": [
       "<Figure size 432x288 with 1 Axes>"
      ]
     },
     "metadata": {
      "needs_background": "light"
     },
     "output_type": "display_data"
    },
    {
     "name": "stdout",
     "output_type": "stream",
     "text": [
      "auc: 0.9861111111111108\n",
      "\n",
      "\n",
      "\n",
      "===================类别二===================\n"
     ]
    },
    {
     "data": {
      "image/png": "[encoded data removed]",
      "text/plain": [
       "<Figure size 432x288 with 1 Axes>"
      ]
     },
     "metadata": {
      "needs_background": "light"
     },
     "output_type": "display_data"
    },
    {
     "name": "stdout",
     "output_type": "stream",
     "text": [
      "auc: 0.9123376623376618\n",
      "\n",
      "\n",
      "\n",
      "===================类别三===================\n"
     ]
    },
    {
     "data": {
      "image/png": "[encoded data removed]",
      "text/plain": [
       "<Figure size 432x288 with 1 Axes>"
      ]
     },
     "metadata": {
      "needs_background": "light"
     },
     "output_type": "display_data"
    },
    {
     "name": "stdout",
     "output_type": "stream",
     "text": [
      "auc: 0.9961538461538457\n"
     ]
    }
   ],
   "source": [
    "real_0 = [1 if x==0 else 0 for x in real_label]\n",
    "real_1 = [1 if x==1 else 0 for x in real_label]\n",
    "real_2 = [1 if x==2 else 0 for x in real_label]\n",
    "\n",
    "\n",
    "# 类别一的ROC、auc\n",
    "print(\"\\n===================类别一===================\")\n",
    "ROC_auc(np.array(pre_P[0]),np.array(real_0))\n",
    "\n",
    "# 类别一的ROC、auc\n",
    "print(\"\\n\\n\\n===================类别二===================\")\n",
    "ROC_auc(np.array(pre_P[1]),np.array(real_1))\n",
    "\n",
    "# 类别一的ROC、auc\n",
    "print(\"\\n\\n\\n===================类别三===================\")\n",
    "ROC_auc(np.array(pre_P[2]),np.array(real_2))"
   ]
  }
 ],
 "metadata": {
  "kernelspec": {
   "display_name": "Python 3 (ipykernel)",
   "language": "python",
   "name": "python3"
  },
  "language_info": {
   "codemirror_mode": {
    "name": "ipython",
    "version": 3
   },
   "file_extension": ".py",
   "mimetype": "text/x-python",
   "name": "python",
   "nbconvert_exporter": "python",
   "pygments_lexer": "ipython3",
   "version": "3.9.7"
  }
 },
 "nbformat": 4,
 "nbformat_minor": 5
}
