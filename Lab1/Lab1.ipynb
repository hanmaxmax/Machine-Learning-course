{
 "cells": [
  {
   "cell_type": "markdown",
   "id": "248ce1cd",
   "metadata": {},
   "source": [
    "# 作业一：KNN\n",
    "- 姓名：韩佳迅\n",
    "- 学号：2012682\n",
    "- 专业：计算机科学与技术"
   ]
  },
  {
   "cell_type": "markdown",
   "id": "d45577c8",
   "metadata": {},
   "source": [
    "### 实验要求\n",
    "题目：基于KNN 的手写数字识别\n",
    "实验条件：给定semeion手写数字数据集，给定kNN分类算法\n",
    "实验要求：\n",
    "1. 基本要求：编程实现kNN算法；给出在不同k值（1，3，5）情况下，kNN算法对手写数字的识别精度（要求采用留一法）\n",
    "2. 中级要求：与weka机器学习包中的kNN分类结果进行对比\n",
    "3. 提高要求：将实验过程结果等图示展出\n",
    "\n",
    "**截止日期：10月7日**\n",
    "- 以.ipynb形式的文件提交，输出运行结果，并确保自己的代码能够正确运行\n",
    "- 发送到邮箱：2120220594@mail.nankai.edu.cn"
   ]
  },
  {
   "cell_type": "markdown",
   "id": "e4c9ea5a",
   "metadata": {},
   "source": [
    "### 导入需要的包"
   ]
  },
  {
   "cell_type": "code",
   "execution_count": 1,
   "id": "4ca4e666",
   "metadata": {},
   "outputs": [],
   "source": [
    "import numpy as np\n",
    "import operator\n",
    "from collections import Counter\n",
    "import matplotlib.pyplot as plt\n",
    "import time"
   ]
  },
  {
   "cell_type": "markdown",
   "id": "b038da95",
   "metadata": {},
   "source": [
    "### 导入数据集 semesion"
   ]
  },
  {
   "cell_type": "code",
   "execution_count": 2,
   "id": "a4f3a08d",
   "metadata": {},
   "outputs": [],
   "source": [
    "# 导入数据\n",
    "def Img2Mat(fileName):\n",
    "    f = open(fileName)\n",
    "    ss = f.readlines()\n",
    "    l = len(ss)\n",
    "    f.close()\n",
    "    returnMat = np.zeros((l,256))\n",
    "    returnClassVector = np.zeros((l,1))\n",
    "    for i in range(l):\n",
    "        s1 = ss[i].split()\n",
    "        for j in range(256):\n",
    "            returnMat[i][j] = np.float(s1[j])\n",
    "        clCount = 0\n",
    "        for j in range(256,266):\n",
    "            if s1[j] != '1':\n",
    "                clCount += 1\n",
    "            else:\n",
    "                break\n",
    "        returnClassVector[i] = clCount\n",
    "    return returnMat,returnClassVector"
   ]
  },
  {
   "cell_type": "code",
   "execution_count": 3,
   "id": "74b5677d",
   "metadata": {},
   "outputs": [
    {
     "name": "stderr",
     "output_type": "stream",
     "text": [
      "C:\\Users\\HJX\\AppData\\Local\\Temp/ipykernel_58116/1310231474.py:12: DeprecationWarning: `np.float` is a deprecated alias for the builtin `float`. To silence this warning, use `float` by itself. Doing this will not modify any behavior and is safe. If you specifically wanted the numpy scalar type, use `np.float64` here.\n",
      "Deprecated in NumPy 1.20; for more details and guidance: https://numpy.org/devdocs/release/1.20.0-notes.html#deprecations\n",
      "  returnMat[i][j] = np.float(s1[j])\n"
     ]
    },
    {
     "data": {
      "text/plain": [
       "((1593, 256), (1593, 1))"
      ]
     },
     "execution_count": 3,
     "metadata": {},
     "output_type": "execute_result"
    }
   ],
   "source": [
    "X,y = Img2Mat('semeion.data')\n",
    "np.shape(X),np.shape(y)"
   ]
  },
  {
   "cell_type": "code",
   "execution_count": 4,
   "id": "e9a4529f",
   "metadata": {},
   "outputs": [
    {
     "data": {
      "text/plain": [
       "(array([[0., 0., 0., ..., 0., 0., 0.],\n",
       "        [0., 0., 0., ..., 0., 0., 0.],\n",
       "        [0., 0., 0., ..., 0., 0., 0.],\n",
       "        ...,\n",
       "        [0., 0., 1., ..., 0., 0., 0.],\n",
       "        [0., 1., 1., ..., 0., 0., 0.],\n",
       "        [0., 0., 0., ..., 0., 0., 0.]]),\n",
       " array([[0.],\n",
       "        [0.],\n",
       "        [0.],\n",
       "        ...,\n",
       "        [9.],\n",
       "        [9.],\n",
       "        [9.]]))"
      ]
     },
     "execution_count": 4,
     "metadata": {},
     "output_type": "execute_result"
    }
   ],
   "source": [
    "#展示X、y\n",
    "X,y "
   ]
  },
  {
   "cell_type": "markdown",
   "id": "261fa3af",
   "metadata": {},
   "source": [
    "## 基本要求\n",
    "编程实现kNN算法；给出在不同k值（1，3，5）情况下，kNN算法对手写数字的识别精度（要求采用留一法）"
   ]
  },
  {
   "cell_type": "code",
   "execution_count": 5,
   "id": "885141e5",
   "metadata": {},
   "outputs": [],
   "source": [
    "# 留一法\n",
    "def Get_test_train(X, y, i):\n",
    "    data_X=X.tolist()\n",
    "    data_y=y.tolist()\n",
    "    \n",
    "    # 测试集=第i组数据\n",
    "    # 训练集=去除了第i组数据的原始数据\n",
    "    X_train = data_X[:]\n",
    "    X_train.pop(i)\n",
    "    X_test = data_X[i]\n",
    "    \n",
    "    y_train = data_y[:]\n",
    "    y_train.pop(i)\n",
    "    y_test = data_y[i]\n",
    "    return  np.array(X_train), np.array(X_test), np.array(y_train), np.array(y_test)"
   ]
  },
  {
   "cell_type": "code",
   "execution_count": 6,
   "id": "e745b20a",
   "metadata": {},
   "outputs": [
    {
     "data": {
      "text/plain": [
       "(array([[0., 0., 0., ..., 0., 0., 0.],\n",
       "        [0., 0., 0., ..., 0., 0., 0.],\n",
       "        [0., 0., 0., ..., 0., 0., 0.],\n",
       "        ...,\n",
       "        [0., 0., 1., ..., 0., 0., 0.],\n",
       "        [0., 1., 1., ..., 0., 0., 0.],\n",
       "        [0., 0., 0., ..., 0., 0., 0.]]),\n",
       " array([0., 0., 0., 0., 1., 1., 1., 1., 1., 1., 1., 1., 1., 1., 0., 0., 0.,\n",
       "        0., 0., 1., 1., 1., 1., 1., 0., 0., 0., 1., 1., 1., 0., 0., 0., 1.,\n",
       "        1., 1., 1., 0., 0., 0., 0., 0., 0., 0., 1., 1., 1., 0., 1., 1., 1.,\n",
       "        0., 0., 0., 0., 0., 0., 0., 0., 0., 0., 1., 1., 1., 1., 1., 0., 0.,\n",
       "        0., 0., 0., 0., 0., 0., 0., 0., 0., 1., 1., 1., 1., 0., 0., 0., 0.,\n",
       "        0., 0., 0., 0., 0., 0., 0., 0., 0., 1., 1., 1., 0., 0., 0., 0., 0.,\n",
       "        0., 0., 0., 0., 0., 0., 0., 0., 1., 1., 1., 0., 0., 0., 0., 0., 0.,\n",
       "        0., 0., 0., 0., 0., 0., 0., 1., 1., 1., 1., 0., 0., 0., 0., 0., 0.,\n",
       "        0., 0., 0., 0., 0., 0., 1., 1., 1., 1., 0., 0., 0., 0., 0., 0., 0.,\n",
       "        0., 0., 0., 0., 1., 1., 1., 0., 1., 1., 0., 0., 0., 0., 0., 0., 0.,\n",
       "        0., 0., 0., 1., 1., 1., 0., 1., 1., 0., 0., 0., 0., 0., 0., 0., 0.,\n",
       "        0., 0., 1., 1., 0., 0., 1., 1., 1., 0., 0., 0., 0., 0., 0., 0., 0.,\n",
       "        1., 1., 1., 0., 0., 0., 1., 1., 1., 1., 0., 0., 0., 0., 1., 1., 1.,\n",
       "        1., 0., 0., 0., 0., 0., 1., 1., 1., 1., 1., 1., 1., 1., 1., 0., 0.,\n",
       "        0., 0., 0., 0., 0., 0., 0., 0., 1., 1., 1., 1., 1., 0., 0., 0., 0.,\n",
       "        0.]),\n",
       " array([[0.],\n",
       "        [0.],\n",
       "        [0.],\n",
       "        ...,\n",
       "        [9.],\n",
       "        [9.],\n",
       "        [9.]]),\n",
       " array([0.]))"
      ]
     },
     "execution_count": 6,
     "metadata": {},
     "output_type": "execute_result"
    }
   ],
   "source": [
    "# 举例展示留一法结果\n",
    "Get_test_train(X, y, 5)"
   ]
  },
  {
   "cell_type": "code",
   "execution_count": 7,
   "id": "d90b288c",
   "metadata": {},
   "outputs": [],
   "source": [
    "#寻找最邻近的k个点\n",
    "def getNeighbors(vec, data, k):\n",
    "    distances = []\n",
    "    # 计算测试数据vec与data所有点的标准差距离\n",
    "    for i in range(data.shape[0]):\n",
    "        distance = np.sqrt(np.sum(np.square(vec - data[i])))\n",
    "        distances.append(distance)\n",
    "    distances = np.array(distances)\n",
    "    # 取最近的k个点的下标\n",
    "    idx = np.argsort(distances)[0:k]\n",
    "    # 取出最近的k个距离\n",
    "    distances = distances[idx]\n",
    "    return distances, idx #返回距离和索引"
   ]
  },
  {
   "cell_type": "code",
   "execution_count": 8,
   "id": "9536c99b",
   "metadata": {},
   "outputs": [],
   "source": [
    "# KNN算法手动实现\n",
    "def MyKnnClassifier(data_X, data_y, neighbors):\n",
    "    \n",
    "    testRes = []  # 存放测试结果\n",
    "    acc=0\n",
    "    for i in range(data_y.shape[0]):  \n",
    "        # 生成数据集和测试集\n",
    "        X_train, X_test, y_train, y_test = Get_test_train(data_X, data_y, i)\n",
    "        # 计算测试数据的最近邻的k个点\n",
    "        distances, idx = getNeighbors(X_test, X_train, neighbors)\n",
    "        # 根据getNeighbors返回的k个下标idx得到这k个点的标签，knn_label\n",
    "        knn_label = y_train[idx]\n",
    "        knn_label=knn_label.flatten()#平铺\n",
    "        # print(knn_label)\n",
    "        classifyRes = Counter(knn_label.tolist())    # 把k近邻中最多的那个标签作为分类结果\n",
    "        classifyRes = classifyRes.most_common(1)[0][0]\n",
    "        testRes.append(classifyRes)\n",
    "        if classifyRes == y_test[0]:  # 分类正确则将accRate+1\n",
    "            acc += 1\n",
    "    accRate = acc / data_y.shape[0]\n",
    "    print('k={0}时，测试个数为{1}  正确个数为：{2}  准确率为：{3}'.format(neighbors,1593,acc,accRate))\n",
    "    return accRate"
   ]
  },
  {
   "cell_type": "code",
   "execution_count": 9,
   "id": "92e47b1a",
   "metadata": {},
   "outputs": [
    {
     "name": "stdout",
     "output_type": "stream",
     "text": [
      "k=1时，测试个数为1593  正确个数为：1459  准确率为：0.9158819836785939\n",
      "k=3时，测试个数为1593  正确个数为：1464  准确率为：0.9190207156308852\n",
      "k=5时，测试个数为1593  正确个数为：1458  准确率为：0.9152542372881356\n"
     ]
    },
    {
     "data": {
      "text/plain": [
       "0.9152542372881356"
      ]
     },
     "execution_count": 9,
     "metadata": {},
     "output_type": "execute_result"
    }
   ],
   "source": [
    "MyKnnClassifier(X, y, 1)\n",
    "MyKnnClassifier(X, y, 3)\n",
    "MyKnnClassifier(X, y, 5)"
   ]
  },
  {
   "cell_type": "markdown",
   "id": "980db7a5",
   "metadata": {},
   "source": [
    "## 中级要求\n",
    "与weka机器学习包中的kNN分类结果进行对比"
   ]
  },
  {
   "cell_type": "markdown",
   "id": "08cd3300",
   "metadata": {},
   "source": [
    "* weka软件需要 .csv 的数据类型，因此我们需要先将数据导出到.csv文件中"
   ]
  },
  {
   "cell_type": "code",
   "execution_count": 10,
   "id": "e63a24b0",
   "metadata": {},
   "outputs": [],
   "source": [
    "# 产生数据集（weka所需数据集为.csv类型）\n",
    "con_data = np.concatenate([X,y],axis=1) \n",
    "np.savetxt(\"con_data.csv\", con_data, delimiter=\",\")"
   ]
  },
  {
   "cell_type": "markdown",
   "id": "a7a77c4a",
   "metadata": {},
   "source": [
    "* 使用weka软件进行分类：\n",
    "  * 首先，打开weka的Explorer，并将数据集导入\n",
    "  * 然后，进行数据类型转换，将 ***numeric*** 的数值类型转为 ***nominal*** 的标签类型，便于后续分类。\n",
    "  * 进入Classify选项卡，选择 ***Flods*** 数为1593，表示用留一法。\n",
    "  * 进行分类。"
   ]
  },
  {
   "cell_type": "markdown",
   "id": "d165b5e0",
   "metadata": {},
   "source": [
    "### weka：k=1的结果\n",
    "\n",
    "* 测试个数：1593\n",
    "\n",
    "* 正确分类数：1460\n",
    "\n",
    "* 错误分类数：133\n",
    "\n",
    "* 准确率：91.651%\n",
    "\n",
    "![jupyter](./k1.png)"
   ]
  },
  {
   "cell_type": "markdown",
   "id": "45893daa",
   "metadata": {},
   "source": [
    "### weka：k=3的结果\n",
    "\n",
    "* 测试个数：1593\n",
    "\n",
    "* 正确分类数：1437\n",
    "\n",
    "* 错误分类数：156\n",
    "\n",
    "* 准确率：90.2072%\n",
    "\n",
    "![jupyter](./k3.png)"
   ]
  },
  {
   "cell_type": "markdown",
   "id": "a1aa9be3",
   "metadata": {},
   "source": [
    "### weka：k=5的结果\n",
    "\n",
    "* 测试个数：1593\n",
    "\n",
    "* 正确分类数：1445\n",
    "\n",
    "* 错误分类数：148\n",
    "\n",
    "* 准确率：90.7094%\n",
    "\n",
    "![jupyter](./k5.png)"
   ]
  },
  {
   "cell_type": "markdown",
   "id": "e3115a24",
   "metadata": {},
   "source": [
    "## 高级要求\n",
    "将实验过程结果等图示展出"
   ]
  },
  {
   "cell_type": "code",
   "execution_count": 11,
   "id": "bef95c5a",
   "metadata": {},
   "outputs": [
    {
     "name": "stdout",
     "output_type": "stream",
     "text": [
      "k=1时，测试个数为1593  正确个数为：1459  准确率为：0.9158819836785939\n",
      "k=2时，测试个数为1593  正确个数为：1459  准确率为：0.9158819836785939\n",
      "k=3时，测试个数为1593  正确个数为：1464  准确率为：0.9190207156308852\n",
      "k=4时，测试个数为1593  正确个数为：1465  准确率为：0.9196484620213434\n",
      "k=5时，测试个数为1593  正确个数为：1458  准确率为：0.9152542372881356\n",
      "k=6时，测试个数为1593  正确个数为：1464  准确率为：0.9190207156308852\n",
      "k=7时，测试个数为1593  正确个数为：1469  准确率为：0.9221594475831764\n",
      "k=8时，测试个数为1593  正确个数为：1472  准确率为：0.9240426867545511\n",
      "k=9时，测试个数为1593  正确个数为：1471  准确率为：0.9234149403640929\n",
      "k=10时，测试个数为1593  正确个数为：1465  准确率为：0.9196484620213434\n",
      "k=11时，测试个数为1593  正确个数为：1456  准确率为：0.9139987445072191\n",
      "k=12时，测试个数为1593  正确个数为：1460  准确率为：0.9165097300690521\n",
      "k=13时，测试个数为1593  正确个数为：1461  准确率为：0.9171374764595104\n",
      "k=14时，测试个数为1593  正确个数为：1453  准确率为：0.9121155053358443\n",
      "k=15时，测试个数为1593  正确个数为：1446  准确率为：0.9077212806026366\n",
      "k=16时，测试个数为1593  正确个数为：1446  准确率为：0.9077212806026366\n",
      "k=17时，测试个数为1593  正确个数为：1442  准确率为：0.9052102950408035\n",
      "k=18时，测试个数为1593  正确个数为：1438  准确率为：0.9026993094789705\n",
      "k=19时，测试个数为1593  正确个数为：1436  准确率为：0.901443816698054\n",
      "k=20时，测试个数为1593  正确个数为：1435  准确率为：0.9008160703075957\n",
      "k=21时，测试个数为1593  正确个数为：1436  准确率为：0.901443816698054\n",
      "k=22时，测试个数为1593  正确个数为：1440  准确率为：0.903954802259887\n",
      "k=23时，测试个数为1593  正确个数为：1435  准确率为：0.9008160703075957\n",
      "k=24时，测试个数为1593  正确个数为：1427  准确率为：0.8957940991839297\n",
      "k=25时，测试个数为1593  正确个数为：1426  准确率为：0.8951663527934715\n",
      "k=26时，测试个数为1593  正确个数为：1424  准确率为：0.8939108600125549\n",
      "k=27时，测试个数为1593  正确个数为：1424  准确率为：0.8939108600125549\n",
      "k=28时，测试个数为1593  正确个数为：1417  准确率为：0.8895166352793471\n",
      "k=29时，测试个数为1593  正确个数为：1423  准确率为：0.8932831136220967\n"
     ]
    }
   ],
   "source": [
    "# 手写 knn 的结果\n",
    "scores1 = []\n",
    "\n",
    "for k in range(1,30):\n",
    "    score1 = MyKnnClassifier(X, y, k)\n",
    "    scores1.append(score1)"
   ]
  },
  {
   "cell_type": "code",
   "execution_count": 12,
   "id": "4064eb64",
   "metadata": {},
   "outputs": [],
   "source": [
    "# weka 软件的结果\n",
    "scores2 = [0.91651,  0.885122, 0.902072, 0.907721, 0.907094,\n",
    "           0.907094, 0.912116, 0.908977, 0.908977, 0.905838,\n",
    "           0.905838, 0.90521,  0.904583, 0.901444, 0.896422,\n",
    "           0.896422, 0.894539, 0.893911, 0.893911, 0.895794,\n",
    "           0.895166, 0.897677, 0.893911, 0.893283, 0.8914,\n",
    "           0.887633, 0.88575,  0.88575,  0.888889]"
   ]
  },
  {
   "cell_type": "code",
   "execution_count": 14,
   "id": "e08bf852",
   "metadata": {},
   "outputs": [
    {
     "data": {
      "image/png": "[encoded data removed]",
      "text/plain": [
       "<Figure size 432x288 with 1 Axes>"
      ]
     },
     "metadata": {
      "needs_background": "light"
     },
     "output_type": "display_data"
    }
   ],
   "source": [
    "# 可视化展示\n",
    "plt.xlabel('k value:',fontsize=18)\n",
    "plt.ylabel('accuracy',fontsize=18)\n",
    "x_major_locator = plt.MultipleLocator(1)\n",
    "ax = plt.gca()\n",
    "ax.xaxis.set_major_locator(x_major_locator)\n",
    "plt.xlim(0, 30)\n",
    "plt.ylim(0.75, 1)\n",
    "# 普通kNN分类精度\n",
    "plt.plot(range(1,30),scores1,'r', label='Handwritten knn')\n",
    "plt.plot(range(1,30),scores2,'b', label='weka knn')\n",
    "plt.legend()\n",
    "plt.show()"
   ]
  }
 ],
 "metadata": {
  "kernelspec": {
   "display_name": "Python 3 (ipykernel)",
   "language": "python",
   "name": "python3"
  },
  "language_info": {
   "codemirror_mode": {
    "name": "ipython",
    "version": 3
   },
   "file_extension": ".py",
   "mimetype": "text/x-python",
   "name": "python",
   "nbconvert_exporter": "python",
   "pygments_lexer": "ipython3",
   "version": "3.9.7"
  }
 },
 "nbformat": 4,
 "nbformat_minor": 5
}
